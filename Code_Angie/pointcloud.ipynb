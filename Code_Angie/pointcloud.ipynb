{
 "cells": [
  {
   "cell_type": "code",
   "execution_count": 2,
   "id": "f866cb3f",
   "metadata": {},
   "outputs": [],
   "source": [
    "import open3d as o3d\n",
    "import numpy as np\n",
    "\n",
    "# Đường dẫn file\n",
    "ply_path = \"/Users/angelinacu/Desktop/Study/Viettel /ThiSinh/train/ply/0088.ply\"\n",
    "pcd = o3d.io.read_point_cloud(ply_path)\n",
    "\n"
   ]
  },
  {
   "cell_type": "code",
   "execution_count": null,
   "id": "ae721cd7",
   "metadata": {},
   "outputs": [
    {
     "name": "stdout",
     "output_type": "stream",
     "text": [
      "\u001b[1;33m[Open3D WARNING] GLFW Error: Cocoa: Failed to find service port for display\u001b[0;m\n"
     ]
    },
    {
     "name": "stderr",
     "output_type": "stream",
     "text": [
      "2025-10-17 21:51:13.637 python[82485:7969230] +[IMKClient subclass]: chose IMKClient_Legacy\n",
      "2025-10-17 21:51:13.637 python[82485:7969230] +[IMKInputSession subclass]: chose IMKInputSession_Legacy\n"
     ]
    },
    {
     "ename": "",
     "evalue": "",
     "output_type": "error",
     "traceback": [
      "\u001b[1;31mThe Kernel crashed while executing code in the current cell or a previous cell. \n",
      "\u001b[1;31mPlease review the code in the cell(s) to identify a possible cause of the failure. \n",
      "\u001b[1;31mClick <a href='https://aka.ms/vscodeJupyterKernelCrash'>here</a> for more info. \n",
      "\u001b[1;31mView Jupyter <a href='command:jupyter.viewOutput'>log</a> for further details."
     ]
    }
   ],
   "source": [
    "# # Xoá outlier bằng phương pháp thống kê\n",
    "# _, ind = pcd.remove_statistical_outlier(nb_neighbors=50, std_ratio=1.0)\n",
    "# pcd_clean = pcd.select_by_index(ind)\n",
    "\n",
    "# # Thêm trục toạ độ để dễ định hướng\n",
    "# axis = o3d.geometry.TriangleMesh.create_coordinate_frame(size=0.2)\n",
    "\n",
    "# # --- Tạo visualizer thủ công ---\n",
    "# vis = o3d.visualization.VisualizerWithEditing()  # Cho phép crop\n",
    "# vis.create_window(window_name='Point Cloud Viewer', width=1280, height=720)\n",
    "# vis.add_geometry(pcd_clean)\n",
    "# vis.add_geometry(axis)\n",
    "\n",
    "# # Chạy hiển thị\n",
    "# vis.run()\n",
    "# vis.destroy_window()\n"
   ]
  },
  {
   "cell_type": "code",
   "execution_count": 6,
   "id": "e6ae0a50",
   "metadata": {},
   "outputs": [],
   "source": [
    "bbox = o3d.geometry.AxisAlignedBoundingBox(min_bound=(-0.6, -0.3, -1.3),\n",
    "                                            max_bound=(0.5, 0.4, -1.0))\n",
    "pcd_crop = pcd.crop(bbox)\n",
    "\n",
    "# o3d.visualization.draw_geometries([pcd_crop])"
   ]
  },
  {
   "cell_type": "code",
   "execution_count": null,
   "id": "273344c5",
   "metadata": {},
   "outputs": [
    {
     "name": "stdout",
     "output_type": "stream",
     "text": [
      "\u001b[1;33m[Open3D WARNING] GLFW Error: Cocoa: Failed to find service port for display\u001b[0;m\n"
     ]
    },
    {
     "name": "stderr",
     "output_type": "stream",
     "text": [
      "2025-10-17 23:00:17.355 python[85861:8033596] +[IMKClient subclass]: chose IMKClient_Legacy\n",
      "2025-10-17 23:00:17.355 python[85861:8033596] +[IMKInputSession subclass]: chose IMKInputSession_Legacy\n"
     ]
    },
    {
     "ename": "",
     "evalue": "",
     "output_type": "error",
     "traceback": [
      "\u001b[1;31mThe Kernel crashed while executing code in the current cell or a previous cell. \n",
      "\u001b[1;31mPlease review the code in the cell(s) to identify a possible cause of the failure. \n",
      "\u001b[1;31mClick <a href='https://aka.ms/vscodeJupyterKernelCrash'>here</a> for more info. \n",
      "\u001b[1;31mView Jupyter <a href='command:jupyter.viewOutput'>log</a> for further details."
     ]
    }
   ],
   "source": [
    "# # Vị trí\n",
    "# point = np.array([-0.033, -0.069, 1.116])\n",
    "# orientation = np.array([-0.1359, 0.0186, 0.9906])\n",
    "\n",
    "# sphere = o3d.geometry.TriangleMesh.create_sphere(radius=0.02)\n",
    "# sphere.paint_uniform_color([1, 0, 0])  # đỏ\n",
    "# sphere.translate(point)\n",
    "\n",
    "# # --- Vector hướng ---\n",
    "# arrow = o3d.geometry.TriangleMesh.create_arrow(\n",
    "#     cone_height=0.05,\n",
    "#     cone_radius=0.02,\n",
    "#     cylinder_height=0.1,\n",
    "#     cylinder_radius=0.01\n",
    "# )\n",
    "# arrow.paint_uniform_color([0, 1, 0])  # xanh lá\n",
    "\n",
    "# # hướng mũi tên theo vector Rx, Ry, Rz\n",
    "# z_axis = np.array([0, 0, 1])\n",
    "# v = np.cross(z_axis, orientation)\n",
    "# c = np.dot(z_axis, orientation)\n",
    "# if np.linalg.norm(v) != 0:\n",
    "#     vx = np.array([[0, -v[2], v[1]],\n",
    "#                    [v[2], 0, -v[0]],\n",
    "#                    [-v[1], v[0], 0]])\n",
    "#     R = np.eye(3) + vx + vx @ vx * ((1 - c) / (np.linalg.norm(v) ** 2))\n",
    "#     arrow.rotate(R, center=(0, 0, 0))\n",
    "\n",
    "# arrow.translate(point)\n",
    "\n",
    "# --- Hiển thị ---\n",
    "o3d.visualization.draw_geometries([pcd_crop])"
   ]
  },
  {
   "cell_type": "code",
   "execution_count": null,
   "id": "2cf77917",
   "metadata": {},
   "outputs": [],
   "source": []
  }
 ],
 "metadata": {
  "kernelspec": {
   "display_name": "env",
   "language": "python",
   "name": "python3"
  },
  "language_info": {
   "codemirror_mode": {
    "name": "ipython",
    "version": 3
   },
   "file_extension": ".py",
   "mimetype": "text/x-python",
   "name": "python",
   "nbconvert_exporter": "python",
   "pygments_lexer": "ipython3",
   "version": "3.8.20"
  }
 },
 "nbformat": 4,
 "nbformat_minor": 5
}
